{
 "cells": [
  {
   "cell_type": "code",
   "execution_count": null,
   "metadata": {},
   "outputs": [],
   "source": [
    "from instance_selection.model import MetaSelectionModel\n",
    "from query_completion.model import MetaQACModel\n",
    "from util.vgg.vgg_net import channel_mean\n",
    "from query_completion.beam import GetCompletions\n",
    "import tensorflow as tf\n",
    "import numpy as np\n",
    "import matplotlib.pyplot as plt\n",
    "import os\n",
    "from util import helper\n",
    "import pandas as pd\n"
   ]
  },
  {
   "cell_type": "code",
   "execution_count": null,
   "metadata": {},
   "outputs": [],
   "source": [
    "ImageQAC = MetaQACModel('../query_experiment_visual/')\n",
    "#ImageQAC = MetaQACModel('../query_experiment_refer/')\n",
    "ImageQAC.MakeSessionAndRestore(2)"
   ]
  },
  {
   "cell_type": "code",
   "execution_count": null,
   "metadata": {},
   "outputs": [],
   "source": [
    "Selection = MetaSelectionModel('../selection_experiment_4_19/')\n",
    "Selection.MakeSessionAndRestore(2)\n"
   ]
  },
  {
   "cell_type": "code",
   "execution_count": null,
   "metadata": {},
   "outputs": [],
   "source": [
    "example_image = np.load('../data/visual/processed_images_224/2377384.npy')\n",
    "ImageQAC.Lock(example_image-channel_mean)\n",
    "\n",
    "prefix = 'b'\n",
    "comp_list = list(GetCompletions(['<S>'] + list(prefix), ImageQAC, branching_factor=4, beam_size=100))\n",
    "top_queries = [''.join(q.words[1:-1]) for q in comp_list[:-4:-1]]\n",
    "plt.imshow(example_image)\n",
    "plt.axis('off')\n",
    "plt.show()\n",
    "print('Query:  \"{}\"\\t\\t\\t'.format(prefix))\n",
    "cnt = 1\n",
    "for item in top_queries:\n",
    "    print('{}. \\t\"{}\" '.format(cnt, item))\n",
    "    cnt+=1\n",
    "print('\\n Predicted Instance Classes:')\n",
    "cnt = 1\n",
    "for item in top_queries:\n",
    "    print('{}. {}'.format(cnt, Selection.predict(item, top_k = 10)))\n",
    "    cnt+=1"
   ]
  },
  {
   "cell_type": "code",
   "execution_count": null,
   "metadata": {},
   "outputs": [],
   "source": [
    "instance, prob = Selection.predict(\"boat in the water\" , top_k = 10)\n",
    "pd.DataFrame({'instance':instance, 'prob':prob}).to_csv('../query_experiment_visual/boat_probs.csv')"
   ]
  },
  {
   "cell_type": "code",
   "execution_count": null,
   "metadata": {},
   "outputs": [],
   "source": [
    "example_image = np.load('../data/visual/processed_images_224/2377407.npy')\n",
    "ImageQAC.Lock(example_image-channel_mean)\n",
    "\n",
    "prefix = 'he'\n",
    "comp_list = list(GetCompletions(['<S>'] + list(prefix), ImageQAC, branching_factor=4, beam_size=100))\n",
    "top_queries = [''.join(q.words[1:-1]) for q in comp_list[:-4:-1]]\n",
    "plt.imshow(example_image)\n",
    "plt.axis('off')\n",
    "plt.show()\n",
    "print('    Query:  \"{}\"\\t\\t\\t'.format(prefix))\n",
    "cnt = 1\n",
    "for item in top_queries:\n",
    "    print('    {}.      \"{}\" '.format(cnt, item))\n",
    "    cnt+=1\n",
    "print('\\n Predicted Instance Classes:')\n",
    "cnt = 1\n",
    "for item in top_queries:\n",
    "    print('{}. {}'.format(cnt, Selection.predict(item, top_k = 10)))\n",
    "    cnt+=1"
   ]
  },
  {
   "cell_type": "code",
   "execution_count": null,
   "metadata": {},
   "outputs": [],
   "source": [
    "instance, prob = Selection.predict(\"helmet is black\", top_k = 10)\n",
    "pd.DataFrame({'instance':instance, 'prob':prob}).to_csv('../query_experiment_visual/bat_probs.csv')"
   ]
  },
  {
   "cell_type": "code",
   "execution_count": null,
   "metadata": {},
   "outputs": [],
   "source": [
    "example_image = np.load('../data/visual/processed_images_224/2377407.npy')\n",
    "ImageQAC.Lock(example_image-channel_mean)\n",
    "plt.imshow(example_image)\n",
    "plt.axis('off')\n",
    "plt.show()\n",
    "prefix = ['m','ma','man','man w','man wi', 'man wit','man with','man with s']\n",
    "for p in prefix:\n",
    "    comp_list = list(GetCompletions(['<S>'] + list(p), ImageQAC, branching_factor=4, beam_size=100))\n",
    "    top_query = ''.join(comp_list[-1].words[1:-1]) \n",
    "    print('Query: {0:20} Completion: {1}'.format(p, top_query))\n",
    "# print('\\n Predicted Instance Classes:')\n",
    "# cnt = 1\n",
    "# for item in top_queries:\n",
    "#     print('{}. {}'.format(cnt, Selection.predict(item, top_k = None)[0]))\n",
    "#     cnt+=1"
   ]
  },
  {
   "cell_type": "code",
   "execution_count": null,
   "metadata": {},
   "outputs": [],
   "source": [
    "example_image = np.load('../data/visual/processed_images_224/2377407.npy')\n",
    "ImageQAC.Lock(example_image-channel_mean)\n",
    "\n",
    "prefix = ['t','th','the ','the m', 'the ma','the man','the man w','the man wi','the man with s']\n",
    "\n",
    "for p in prefix:\n",
    "    comp_list = list(GetCompletions(['<S>'] + list(p), ImageQAC, branching_factor=4, beam_size=100))\n",
    "    top_query = ''.join(comp_list[-1].words[1:-1])\n",
    "    print('Query: {}  Completion: {}\\n'.format(p, top_query))\n"
   ]
  },
  {
   "cell_type": "code",
   "execution_count": null,
   "metadata": {},
   "outputs": [],
   "source": [
    "example_image = helper.TransformImage('../data/visual/images/2377436.jpg', 224, 224)\n",
    "ImageQAC.Lock(example_image-channel_mean)\n",
    "\n",
    "prefix = \"the woman's\"\n",
    "comp_list = list(GetCompletions(['<S>'] + list(prefix), ImageQAC, branching_factor=4, beam_size=100))\n",
    "top_queries = [''.join(q.words[1:-1]) for q in comp_list[:-4:-1]]\n",
    "plt.imshow(example_image)\n",
    "plt.axis('off')\n",
    "print('Query:  \"{}\"\\t\\t\\t'.format(prefix))\n",
    "cnt = 1\n",
    "for item in top_queries:\n",
    "    print('{}. \\t\"{}\" '.format(cnt, item))\n",
    "    cnt+=1\n",
    "print('\\n Predicted Instance Classes:')\n",
    "cnt = 1\n",
    "for item in top_queries:\n",
    "    print('{}. {}'.format(cnt, Selection.predict(item, top_k = 10)))\n",
    "    cnt+=1"
   ]
  },
  {
   "cell_type": "code",
   "execution_count": null,
   "metadata": {},
   "outputs": [],
   "source": [
    "example_image = helper.TransformImage('../data/visual/images/2377427.jpg', 224, 224)\n",
    "ImageQAC.Lock(example_image-channel_mean)\n",
    "\n",
    "prefix = 'wine b'\n",
    "comp_list = list(GetCompletions(['<S>'] + list(prefix), ImageQAC, branching_factor=4, beam_size=100))\n",
    "top_queries = [''.join(q.words[1:-1]) for q in comp_list[:-4:-1]]\n",
    "plt.imshow(example_image)\n",
    "plt.axis('off')\n",
    "print('Query:  \"{}\"\\t\\t\\t'.format(prefix))\n",
    "cnt = 1\n",
    "for item in top_queries:\n",
    "    print('{}. \\t\"{}\" '.format(cnt, item))\n",
    "    cnt+=1\n",
    "print('\\n Predicted Instance Classes:')\n",
    "cnt = 1\n",
    "for item in top_queries:\n",
    "    print('{}. {}'.format(cnt, Selection.predict(item, top_k = 10)))\n",
    "    cnt+=1"
   ]
  },
  {
   "cell_type": "code",
   "execution_count": null,
   "metadata": {},
   "outputs": [],
   "source": [
    "instance, prob = Selection.predict(\"wine bottle on table\", top_k = 10)\n",
    "pd.DataFrame({'instance':instance, 'prob':prob}).to_csv('../query_experiment_visual/wine_group_probs.csv')"
   ]
  },
  {
   "cell_type": "code",
   "execution_count": null,
   "metadata": {},
   "outputs": [],
   "source": [
    "example_image = helper.TransformImage('../data/visual/images/2378392.jpg', 224, 224)\n",
    "ImageQAC.Lock(example_image-channel_mean)\n",
    "\n",
    "prefix = 'a w'\n",
    "comp_list = list(GetCompletions(['<S>'] + list(prefix), ImageQAC, branching_factor=4, beam_size=100))\n",
    "top_queries = [''.join(q.words[1:-1]) for q in comp_list[:-4:-1]]\n",
    "plt.imshow(example_image)\n",
    "plt.axis('off')\n",
    "print('Query:  \"{}\"\\t\\t\\t'.format(prefix))\n",
    "cnt = 1\n",
    "for item in top_queries:\n",
    "    print('{}. \\t\"{}\" '.format(cnt, item))\n",
    "    cnt+=1\n",
    "print('\\n Predicted Instance Classes:')\n",
    "cnt = 1\n",
    "for item in top_queries:\n",
    "    print('{}. {}'.format(cnt, Selection.predict(item, top_k = 10)))\n",
    "    cnt+=1"
   ]
  },
  {
   "cell_type": "code",
   "execution_count": null,
   "metadata": {},
   "outputs": [],
   "source": [
    "instance, prob = Selection.predict(\"a white frisbee\", top_k = 10)\n",
    "pd.DataFrame({'instance':instance, 'prob':prob}).to_csv('../query_experiment_visual/frisbee_probs.csv')"
   ]
  },
  {
   "cell_type": "code",
   "execution_count": null,
   "metadata": {},
   "outputs": [],
   "source": [
    "example_image = helper.TransformImage('../data/visual/images/115.jpg', 224, 224)\n",
    "ImageQAC.Lock(example_image-channel_mean)\n",
    "\n",
    "prefix = 'woman wearing p'\n",
    "comp_list = list(GetCompletions(['<S>'] + list(prefix), ImageQAC, branching_factor=4, beam_size=100))\n",
    "top_queries = [''.join(q.words[1:-1]) for q in comp_list[:-4:-1]]\n",
    "plt.imshow(example_image)\n",
    "plt.axis('off')\n",
    "print('Query:  \"{}\"\\t\\t\\t'.format(prefix))\n",
    "cnt = 1\n",
    "for item in top_queries:\n",
    "    print('{}. \\t\"{}\" '.format(cnt, item))\n",
    "    cnt+=1\n",
    "print('\\n Predicted Instance Classes:')\n",
    "cnt = 1\n",
    "for item in top_queries:\n",
    "    print('{}. {}'.format(cnt, Selection.predict(item, top_k = 10)))\n",
    "    cnt+=1"
   ]
  },
  {
   "cell_type": "code",
   "execution_count": null,
   "metadata": {},
   "outputs": [],
   "source": [
    "instance, prob = Selection.predict(\"brown hair\", top_k = 10)\n",
    "pd.DataFrame({'instance':instance, 'prob':prob}).to_csv('../query_experiment_visual/manwoman_probs.csv')"
   ]
  },
  {
   "cell_type": "code",
   "execution_count": null,
   "metadata": {},
   "outputs": [],
   "source": [
    "example_image = helper.TransformImage('../data/visual/images/123.jpg', 224, 224)\n",
    "ImageQAC.Lock(example_image-channel_mean)\n",
    "\n",
    "prefix = 'green pl'\n",
    "comp_list = list(GetCompletions(['<S>'] + list(prefix), ImageQAC, branching_factor=4, beam_size=100))\n",
    "top_queries = [''.join(q.words[1:-1]) for q in comp_list[:-4:-1]]\n",
    "plt.imshow(example_image)\n",
    "plt.axis('off')\n",
    "print('Query:  \"{}\"\\t\\t\\t'.format(prefix))\n",
    "cnt = 1\n",
    "for item in top_queries:\n",
    "    print('{}. \\t\"{}\" '.format(cnt, item))\n",
    "    cnt+=1\n",
    "print('\\n Predicted Instance Classes:')\n",
    "cnt = 1\n",
    "for item in top_queries:\n",
    "    print('{}. {}'.format(cnt, Selection.predict(item, top_k = 10)))\n",
    "    cnt+=1"
   ]
  },
  {
   "cell_type": "code",
   "execution_count": null,
   "metadata": {},
   "outputs": [],
   "source": [
    "instance, prob = Selection.predict(\"green plant in kitchen\", top_k = 10)\n",
    "pd.DataFrame({'instance':instance, 'prob':prob}).to_csv('../query_experiment_visual/kitchen_probs.csv')"
   ]
  },
  {
   "cell_type": "code",
   "execution_count": null,
   "metadata": {},
   "outputs": [],
   "source": [
    "result_dict = {'instance':[], 'prob':[],'query':[]}\n",
    "\n",
    "example_image = helper.TransformImage('../data/visual/images/123.jpg', 224, 224)\n",
    "ImageQAC.Lock(example_image-channel_mean)\n",
    "\n",
    "prefix = ['a','an','an oven a','an oven and stove nea']\n",
    "\n",
    "for p in prefix:\n",
    "    comp_list = list(GetCompletions(['<S>'] + list(p), ImageQAC, branching_factor=4, beam_size=100))\n",
    "    top_query = ''.join(comp_list[-1].words[1:-1])\n",
    "    instances, probs = Selection.predict(top_query, top_k = 10)\n",
    "    print('Query: {}  Completion: {}\\n Instances: {}\\n'.format(p, top_query,instances))\n",
    "    \n",
    "    result_dict['query'].extend(['\"'+p+'...\\n\\n\"'+top_query+'\"']*10)\n",
    "    result_dict['prob'].extend(probs)\n",
    "    result_dict['instance'].extend(instances)"
   ]
  },
  {
   "cell_type": "code",
   "execution_count": null,
   "metadata": {},
   "outputs": [],
   "source": [
    "pd.DataFrame(result_dict).to_csv('../query_experiment_visual/kitchen_multiple_probs.csv')"
   ]
  },
  {
   "cell_type": "code",
   "execution_count": null,
   "metadata": {},
   "outputs": [],
   "source": []
  }
 ],
 "metadata": {
  "kernelspec": {
   "display_name": "NLQAC",
   "language": "python",
   "name": "nlqac"
  },
  "language_info": {
   "codemirror_mode": {
    "name": "ipython",
    "version": 2
   },
   "file_extension": ".py",
   "mimetype": "text/x-python",
   "name": "python",
   "nbconvert_exporter": "python",
   "pygments_lexer": "ipython2",
   "version": "2.7.10"
  }
 },
 "nbformat": 4,
 "nbformat_minor": 2
}
